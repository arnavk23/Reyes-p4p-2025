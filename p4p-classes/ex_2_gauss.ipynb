{
 "cells": [
  {
   "cell_type": "markdown",
   "metadata": {
    "id": "0mjBZ5lXbbMy"
   },
   "source": [
    "**Again, we'll load some libraries**"
   ]
  },
  {
   "cell_type": "code",
   "execution_count": null,
   "metadata": {
    "id": "fabLFFgYQ1FC"
   },
   "outputs": [],
   "source": [
    "import matplotlib.pyplot as plt\n",
    "import numpy as np"
   ]
  },
  {
   "cell_type": "markdown",
   "metadata": {
    "id": "_A9fgIVeXchk"
   },
   "source": [
    "**And connect this notebook to our google drive**"
   ]
  },
  {
   "cell_type": "code",
   "execution_count": null,
   "metadata": {
    "id": "Ws2l_xGHXb-J"
   },
   "outputs": [],
   "source": [
    "from google.colab import drive\n",
    "drive.mount('/content/drive')\n",
    "!mkdir -p \"/content/drive/My Drive/Python4Physics\"\n",
    "filepath=\"drive/My Drive/Python4Physics/\""
   ]
  },
  {
   "cell_type": "markdown",
   "metadata": {
    "id": "i-ZOB1imQ2Z4"
   },
   "source": [
    "**In this module, we will generate distribution of points\n",
    "that are centered about a mean value of m0,\n",
    "with some deviation described by dm0.\n",
    "The points will distributed according to a Gaussian distribution,\n",
    "also known as normal distribution**\n",
    "https://en.wikipedia.org/wiki/Normal_distribution"
   ]
  },
  {
   "cell_type": "markdown",
   "metadata": {
    "id": "KM8tZ_FWQ6ZL"
   },
   "source": [
    "**first, let's define some basic functions**"
   ]
  },
  {
   "cell_type": "code",
   "execution_count": null,
   "metadata": {
    "id": "ibw1JyH3Q78N"
   },
   "outputs": [],
   "source": [
    "pi= np.pi\n",
    "def sqrt(x): return np.sqrt(x)\n",
    "def exp(x): return np.exp(x)\n",
    "\n",
    "\"first, let's define some basic functions\"\n",
    "def f_gaus(x,mu,sig):\n",
    "\tamp = 1.0/sqrt(2.0 * pi * pow(sig,2))\n",
    "\targ = pow(x-mu,2)/( 2.0 * pow(sig,2) )\n",
    "\treturn amp * exp(-arg)\n",
    "\n",
    "m0, dm0 = 1, .01"
   ]
  },
  {
   "cell_type": "markdown",
   "metadata": {
    "id": "uPe3FzGqQ9fs"
   },
   "source": [
    "**Python has many built in functions,\n",
    "including a normal distributions**\n",
    "https://docs.scipy.org/doc/numpy/reference/generated/numpy.random.normal.html"
   ]
  },
  {
   "cell_type": "code",
   "execution_count": null,
   "metadata": {
    "id": "gNFNv_-WQ_iI"
   },
   "outputs": [],
   "source": [
    "Npoints = 1000\n",
    "m0s = np.random.normal(m0, dm0, Npoints)"
   ]
  },
  {
   "cell_type": "markdown",
   "metadata": {
    "id": "P92xhSXLRCEf"
   },
   "source": [
    "**here we save the generated points into a text file using**\n",
    "https://docs.scipy.org/doc/numpy/reference/generated/numpy.savetxt.html"
   ]
  },
  {
   "cell_type": "code",
   "execution_count": null,
   "metadata": {
    "id": "y-XUuENRRBZb"
   },
   "outputs": [],
   "source": [
    "filename='data.txt'\n",
    "np.savetxt(filepath+filename,m0s)"
   ]
  },
  {
   "cell_type": "code",
   "execution_count": null,
   "metadata": {
    "id": "47UyTkB2dDdJ"
   },
   "outputs": [],
   "source": [
    "print(filepath+filename)"
   ]
  },
  {
   "cell_type": "markdown",
   "metadata": {
    "id": "Jfu0fp8PRE7N"
   },
   "source": [
    "**we will seperate the number of elements having a given 'x'.\n",
    "We will do this by separating them into Nbins groups**"
   ]
  },
  {
   "cell_type": "code",
   "execution_count": null,
   "metadata": {
    "id": "YAmpC77yRGCb"
   },
   "outputs": [],
   "source": [
    "Nbins = 25\n",
    "hist, bin_edges = np.histogram(m0s,bins=Nbins)"
   ]
  },
  {
   "cell_type": "markdown",
   "metadata": {
    "id": "_adQKaSuRHq0"
   },
   "source": [
    "**to plot it, we use the hist function:**\n",
    "\thttps://docs.scipy.org/doc/numpy/reference/generated/numpy.histogram.html?highlight=histogram#numpy.histogram"
   ]
  },
  {
   "cell_type": "code",
   "execution_count": null,
   "metadata": {
    "id": "sq-IU8wkRJHs"
   },
   "outputs": [],
   "source": [
    "plt.hist(m0s, bins=Nbins)\n",
    "\n",
    "x=np.arange(m0-4*dm0,m0+4*dm0,dm0/100.)\n",
    "\n",
    "plt.ylabel('Number of points',size=20)\n",
    "plt.xlabel('m0',size=20, position=(1,1.2))"
   ]
  },
  {
   "cell_type": "markdown",
   "metadata": {
    "id": "xX04Ru__RKjd"
   },
   "source": [
    "**here we will add a normalized Gaussian distribution\n",
    "so that its peak matches the histogram peak. Then we'll save it to the 'Python4Physics' folder as usual**"
   ]
  },
  {
   "cell_type": "code",
   "execution_count": null,
   "metadata": {
    "id": "Bsw-RBo9RL_K"
   },
   "outputs": [],
   "source": [
    "plt.hist(m0s, bins=Nbins)\n",
    "x=np.arange(m0-4*dm0,m0+4*dm0,dm0/100.)\n",
    "plt.ylabel('Number of points',size=20)\n",
    "plt.xlabel('m0',size=20, position=(1,1.2))\n",
    "#################\n",
    "\n",
    "tmp = f_gaus(x,m0,dm0)\n",
    "tmp = tmp * max(hist) / max(tmp)\n",
    "\n",
    "plt.plot(x,tmp ,color='r')\n",
    "\n",
    "print(\"hist\",hist)\n",
    "\n",
    "\n",
    "plt.ylabel('Number of points',size=20)\n",
    "plt.xlabel('m0',size=20, position=(1,1.2))\n",
    "plt.savefig(filepath+'example_gauss.jpg')"
   ]
  },
  {
   "cell_type": "code",
   "execution_count": null,
   "metadata": {
    "id": "DJuKw81UR3r1"
   },
   "outputs": [],
   "source": []
  }
 ],
 "metadata": {
  "colab": {
   "authorship_tag": "ABX9TyO5tEuQWi7WwOjVgKJ+o8Pd",
   "provenance": []
  },
  "kernelspec": {
   "display_name": "Python 3",
   "name": "python3"
  },
  "language_info": {
   "name": "python"
  }
 },
 "nbformat": 4,
 "nbformat_minor": 0
}
