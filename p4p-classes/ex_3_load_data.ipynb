{
 "cells": [
  {
   "cell_type": "markdown",
   "metadata": {
    "id": "0mjBZ5lXbbMy"
   },
   "source": [
    "**Again, we'll load some libraries**"
   ]
  },
  {
   "cell_type": "code",
   "execution_count": null,
   "metadata": {
    "id": "fabLFFgYQ1FC"
   },
   "outputs": [],
   "source": [
    "import matplotlib.pyplot as plt\n",
    "import numpy as np"
   ]
  },
  {
   "cell_type": "markdown",
   "metadata": {
    "id": "_A9fgIVeXchk"
   },
   "source": [
    "**And connect this notebook to our google drive**"
   ]
  },
  {
   "cell_type": "code",
   "execution_count": null,
   "metadata": {
    "id": "Ws2l_xGHXb-J"
   },
   "outputs": [],
   "source": [
    "from google.colab import drive\n",
    "drive.mount('/content/drive')\n",
    "!mkdir -p \"/content/drive/My Drive/Python4Physics\"\n",
    "filepath=\"drive/My Drive/Python4Physics/\""
   ]
  },
  {
   "cell_type": "markdown",
   "metadata": {
    "id": "TctvvsdmfNcl"
   },
   "source": [
    "**In this module, we will load the data generated in ex_2_gauss.ipynb\n",
    "and plot it to make sure we get the same result**"
   ]
  },
  {
   "cell_type": "markdown",
   "metadata": {
    "id": "o4vb-YGmfSYg"
   },
   "source": [
    "**First, we'll load the file 'data.txt' which we made in the last example**"
   ]
  },
  {
   "cell_type": "code",
   "execution_count": null,
   "metadata": {
    "id": "05YpGEwkfLiR"
   },
   "outputs": [],
   "source": [
    "filename='data.txt'\n",
    "m0s = np.loadtxt(filepath+filename)"
   ]
  },
  {
   "cell_type": "markdown",
   "metadata": {
    "id": "20b0n4Ddfa1p"
   },
   "source": []
  },
  {
   "cell_type": "code",
   "execution_count": null,
   "metadata": {
    "id": "cwptYG_WfZ0q"
   },
   "outputs": [],
   "source": [
    "Nbins=20\n",
    "plt.hist(m0s, bins=Nbins)\n",
    "\n",
    "plt.ylabel('Number of points',size=20)\n",
    "plt.xlabel('m0',size=20, position=(1,1.2))\n",
    "plt.savefig(filepath+'example_gauss_check.jpg')"
   ]
  }
 ],
 "metadata": {
  "colab": {
   "authorship_tag": "ABX9TyPIkkT98iRz3aCZ+bEWYJJP",
   "provenance": []
  },
  "kernelspec": {
   "display_name": "Python 3",
   "name": "python3"
  },
  "language_info": {
   "name": "python"
  }
 },
 "nbformat": 4,
 "nbformat_minor": 0
}
