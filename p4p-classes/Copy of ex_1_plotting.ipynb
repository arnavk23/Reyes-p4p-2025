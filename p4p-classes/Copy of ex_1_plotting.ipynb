{
 "cells": [
  {
   "cell_type": "markdown",
   "metadata": {
    "id": "rUyT_35SVD6I"
   },
   "source": [
    "**First, we're going to load some public libraries. Libraries have pre-written code which you can use without having to write your own**\n",
    "\n"
   ]
  },
  {
   "cell_type": "code",
   "execution_count": 1,
   "metadata": {
    "executionInfo": {
     "elapsed": 8,
     "status": "ok",
     "timestamp": 1718736614772,
     "user": {
      "displayName": "Wyatt Smith",
      "userId": "07681116817105849399"
     },
     "user_tz": 420
    },
    "id": "Q3hhV_JzUxn9"
   },
   "outputs": [],
   "source": [
    "import matplotlib.pyplot as plt\n",
    "import numpy as np\n",
    "from google.colab import files"
   ]
  },
  {
   "cell_type": "markdown",
   "metadata": {
    "id": "5QiJHp4SZL-y"
   },
   "source": [
    "**If we want to save our data to google drive, we have to connect our Python notebook to our google drive account! Running this will ask us to confirm that we want this notebook to be able to access drive. This will also make a folder called 'Python4Physics' in your google drive**"
   ]
  },
  {
   "cell_type": "code",
   "execution_count": 2,
   "metadata": {
    "colab": {
     "base_uri": "https://localhost:8080/"
    },
    "executionInfo": {
     "elapsed": 46673,
     "status": "ok",
     "timestamp": 1718736661439,
     "user": {
      "displayName": "Wyatt Smith",
      "userId": "07681116817105849399"
     },
     "user_tz": 420
    },
    "id": "LU175ryUY_lG",
    "outputId": "d10f0c2c-e3ca-4eac-fcb6-d08697e8e983"
   },
   "outputs": [
    {
     "name": "stdout",
     "output_type": "stream",
     "text": [
      "Mounted at /content/drive\n"
     ]
    }
   ],
   "source": [
    "from google.colab import drive\n",
    "drive.mount('/content/drive')\n",
    "!mkdir -p \"/content/drive/My Drive/Python4Physics\"\n",
    "filepath=\"drive/My Drive/Python4Physics/\""
   ]
  },
  {
   "cell_type": "markdown",
   "metadata": {
    "id": "mnjRqwj3VTcX"
   },
   "source": [
    "**here we define two arrays of real valued numbers,\n",
    "the first, ranges from 0 to 1.99 in steps of 0.01\n",
    "the second,  ranges from 0 to 1.9 in steps of 0.1**"
   ]
  },
  {
   "cell_type": "code",
   "execution_count": null,
   "metadata": {
    "id": "VC2XYj5WVTIO"
   },
   "outputs": [],
   "source": [
    "x=np.arange(0,2,.01)\n",
    "x1=np.arange(0,2,.1)"
   ]
  },
  {
   "cell_type": "markdown",
   "metadata": {
    "id": "h--pmcdhVulQ"
   },
   "source": [
    "**let's print these out to visualize them**"
   ]
  },
  {
   "cell_type": "code",
   "execution_count": null,
   "metadata": {
    "id": "F-XmKpbMVe47"
   },
   "outputs": [],
   "source": [
    "print(\"************************\")\n",
    "print(\"x = \",x)\n",
    "print(\"\")\n",
    "print(\"************************\")\n",
    "print(\"x1 = \",x1)"
   ]
  },
  {
   "cell_type": "markdown",
   "metadata": {
    "id": "106NE_0BV1uJ"
   },
   "source": [
    "**here we define two functions,\n",
    "the first, returns x to the power of 1.5, and\n",
    "the second returns x squared**"
   ]
  },
  {
   "cell_type": "code",
   "execution_count": null,
   "metadata": {
    "id": "NKB6xN1WV3YA"
   },
   "outputs": [],
   "source": [
    "def f1(x):\n",
    "\treturn pow(x,1.5)\n",
    "\n",
    "def f2(x):\n",
    "\treturn pow(x,2)"
   ]
  },
  {
   "cell_type": "markdown",
   "metadata": {
    "id": "6ntfRb4tV6OS"
   },
   "source": [
    "**here we break the figure into three panels.\n",
    "In the first panel, we plot both f1 and f2 in red and blue, respectively**"
   ]
  },
  {
   "cell_type": "code",
   "execution_count": null,
   "metadata": {
    "id": "_AjlmZe7V8UN"
   },
   "outputs": [],
   "source": [
    "plt.subplot(311)\n",
    "plt.plot(x,f1(x),color='red')\n",
    "plt.plot(x,f2(x),color='blue')"
   ]
  },
  {
   "cell_type": "markdown",
   "metadata": {
    "id": "Odt2P-nUV93V"
   },
   "source": [
    "**the extra lines here limit the x-range of the plot**"
   ]
  },
  {
   "cell_type": "code",
   "execution_count": null,
   "metadata": {
    "id": "7BX-QqejV_VE"
   },
   "outputs": [],
   "source": [
    "plt.subplot(311)\n",
    "plt.plot(x,f1(x),color='red')\n",
    "plt.plot(x,f2(x),color='blue')\n",
    "############################\n",
    "plt.xlim([min(x), max(x)])"
   ]
  },
  {
   "cell_type": "markdown",
   "metadata": {
    "id": "MZYcJJE3WM8w"
   },
   "source": [
    "**Now let's add some vertical and horizontal black lines of width=1**"
   ]
  },
  {
   "cell_type": "code",
   "execution_count": null,
   "metadata": {
    "id": "JkArdp1nWOOg"
   },
   "outputs": [],
   "source": [
    "plt.subplot(311)\n",
    "plt.plot(x,f1(x),color='red')\n",
    "plt.plot(x,f2(x),color='blue')\n",
    "plt.xlim([min(x), max(x)])\n",
    "############################\n",
    "plt.axvline(x=0,color='k',linewidth=1)\n",
    "plt.axhline(y=0,color='k',linewidth=1)"
   ]
  },
  {
   "cell_type": "markdown",
   "metadata": {
    "id": "_A9tPDreWQgi"
   },
   "source": [
    "**Now lets add the second panel, and in it we'll plot f1 as a continuous red line, comparing it to f1 evaluated on the array x1 as discrete red circles.\n",
    "The red circles are plotted using the errorbar function**"
   ]
  },
  {
   "cell_type": "code",
   "execution_count": null,
   "metadata": {
    "id": "uLLSNVqmWTIe"
   },
   "outputs": [],
   "source": [
    "plt.subplot(311)\n",
    "plt.plot(x,f1(x),color='red')\n",
    "plt.plot(x,f2(x),color='blue')\n",
    "plt.xlim([min(x), max(x)])\n",
    "plt.axvline(x=0,color='k',linewidth=1)\n",
    "plt.axhline(y=0,color='k',linewidth=1)\n",
    "#####################################\n",
    "plt.subplot(312)\n",
    "plt.plot(x,f1(x),color='red')\n",
    "plt.errorbar(x1,f1(x1),markersize=8,fmt='o',color='r',mfc='white',mec='r', elinewidth=2, capsize=4, mew=1.4)\n",
    "plt.xlim([min(x), max(x)])\n",
    "plt.axvline(x=0,color='k',linewidth=1)\n",
    "plt.axhline(y=0,color='k',linewidth=1)"
   ]
  },
  {
   "cell_type": "markdown",
   "metadata": {
    "id": "tF6fvmFAWUrG"
   },
   "source": [
    "**Now lets add a third panel, and in it plot f2 as a continuous blue line\n",
    "and compare it to the function f2 evaluated on the array x1 as blue squares. We'll then save it to the file 'example_plot.pdf' which will appear in your Python4Physics folder in Google Drive!**"
   ]
  },
  {
   "cell_type": "code",
   "execution_count": null,
   "metadata": {
    "id": "PYJSD7uFWWgz"
   },
   "outputs": [],
   "source": [
    "plt.subplot(311)\n",
    "plt.plot(x,f1(x),color='red')\n",
    "plt.plot(x,f2(x),color='blue')\n",
    "plt.xlim([min(x), max(x)])\n",
    "plt.axvline(x=0,color='k',linewidth=1)\n",
    "plt.axhline(y=0,color='k',linewidth=1)\n",
    "############################\n",
    "plt.subplot(312)\n",
    "plt.plot(x,f1(x),color='red')\n",
    "plt.errorbar(x1,f1(x1),markersize=8,fmt='o',color='r',mfc='white',mec='r', elinewidth=2, capsize=4, mew=1.4)\n",
    "plt.xlim([min(x), max(x)])\n",
    "plt.axvline(x=0,color='k',linewidth=1)\n",
    "plt.axhline(y=0,color='k',linewidth=1)\n",
    "###########################\n",
    "plt.subplot(313)\n",
    "plt.plot(x,f2(x),color='b')\n",
    "plt.errorbar(x1,f2(x1),markersize=8,fmt='s',color='b',mfc='white',mec='b', elinewidth=2, capsize=4, mew=1.4)\n",
    "plt.xlim([min(x), max(x)])\n",
    "plt.axvline(x=0,color='k',linewidth=1)\n",
    "plt.axhline(y=0,color='k',linewidth=1)\n",
    "\n",
    "plt.savefig(filepath+'example_plot.pdf',\n",
    "\t\t\t\tbbox_inches='tight',\n",
    "\t\t\t\ttransparent=True)"
   ]
  },
  {
   "cell_type": "markdown",
   "metadata": {
    "id": "UKQsaTfrWaBV"
   },
   "source": [
    "**here save the figure**"
   ]
  },
  {
   "cell_type": "code",
   "execution_count": null,
   "metadata": {
    "id": "CK_rKfQNWmtT"
   },
   "outputs": [],
   "source": []
  }
 ],
 "metadata": {
  "colab": {
   "authorship_tag": "ABX9TyM1Hzpf2g82ZpG0yBFbbDOA",
   "provenance": []
  },
  "kernelspec": {
   "display_name": "Python 3",
   "name": "python3"
  },
  "language_info": {
   "name": "python"
  }
 },
 "nbformat": 4,
 "nbformat_minor": 0
}
