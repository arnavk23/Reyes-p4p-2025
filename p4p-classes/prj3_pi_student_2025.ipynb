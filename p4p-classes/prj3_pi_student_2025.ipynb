{
  "nbformat": 4,
  "nbformat_minor": 0,
  "metadata": {
    "colab": {
      "provenance": []
    },
    "kernelspec": {
      "name": "python3",
      "display_name": "Python 3"
    },
    "language_info": {
      "name": "python"
    }
  },
  "cells": [
    {
      "cell_type": "markdown",
      "source": [
        "**Project #3**    With exercises worked."
      ],
      "metadata": {
        "id": "cwLHy6gM4BIX"
      }
    },
    {
      "cell_type": "code",
      "source": [
        "import matplotlib.pyplot as plt\n",
        "import numpy as np\n",
        "from google.colab import files"
      ],
      "metadata": {
        "id": "wDW8fxj66O--"
      },
      "execution_count": null,
      "outputs": []
    },
    {
      "cell_type": "markdown",
      "source": [
        "If we want to save our data to google drive, we have to connect our Python notebook to our google drive account! Running this will ask us to confirm that we want this notebook to be able to access drive. This will also make a folder called 'Python4Physics' in your google drive"
      ],
      "metadata": {
        "id": "JCmr56OL4apa"
      }
    },
    {
      "cell_type": "code",
      "execution_count": null,
      "metadata": {
        "colab": {
          "base_uri": "https://localhost:8080/"
        },
        "id": "PqiZxn_u3-qz",
        "outputId": "8cee4b00-5591-4be8-98c6-a20d99daa174"
      },
      "outputs": [
        {
          "output_type": "stream",
          "name": "stdout",
          "text": [
            "Drive already mounted at /content/drive; to attempt to forcibly remount, call drive.mount(\"/content/drive\", force_remount=True).\n"
          ]
        }
      ],
      "source": [
        "from google.colab import drive\n",
        "drive.mount('/content/drive')\n",
        "!mkdir -p \"/content/drive/My Drive/Python4Physics\"\n",
        "filepath=\"drive/My Drive/Python4Physics/\""
      ]
    },
    {
      "cell_type": "markdown",
      "source": [
        "# Understanding the difference between basic types and composite types"
      ],
      "metadata": {
        "id": "ruTXfJiq3QTP"
      }
    },
    {
      "cell_type": "code",
      "source": [
        "a = 5   # integers, floats, strings, boolean are basic types\n",
        "b = a   # copy contents of a to b\n",
        "b = 7   # setting variable b does not change value stored in a\n",
        "print(f\"a={a}\")"
      ],
      "metadata": {
        "colab": {
          "base_uri": "https://localhost:8080/"
        },
        "id": "ilRnubt94XQp",
        "outputId": "43f53a01-dcc7-43d1-df20-5fa745c3cd02"
      },
      "execution_count": null,
      "outputs": [
        {
          "output_type": "stream",
          "name": "stdout",
          "text": [
            "a=5\n"
          ]
        }
      ]
    },
    {
      "cell_type": "code",
      "source": [
        "# Arrays an Lists are \"mutable\" types - you can modify parts\n",
        "a = np.array([1.0, 2, 3.0, 4.0], dtype=np.float64) # A composite, like Lists, Dictionaries ...\n",
        "b = a         # Take contents of a and put in b\n",
        "b[1] = 77.0   # What happens to array in a when we modify the array via b\n",
        "print(f\"a={a}, changing second entry via b changes a too!\")\n",
        "#  Why do you think this is?  Why would the python inventor do this?\n",
        "b = a.copy()\n",
        "b[1] = 88.0   # try again\n",
        "print(f\"a={a}, this time b is a copy, so changing b has no effect\")\n",
        "print(f\"b={b}, b did get changed\")"
      ],
      "metadata": {
        "colab": {
          "base_uri": "https://localhost:8080/"
        },
        "id": "4fusA38B3PfF",
        "outputId": "c2e46022-2c59-4afa-9503-cdddbcdb5d2c"
      },
      "execution_count": null,
      "outputs": [
        {
          "output_type": "stream",
          "name": "stdout",
          "text": [
            "a=[ 1. 77.  3.  4.], changing second entry via b changes a too!\n",
            "a=[ 1. 77.  3.  4.], this time b is a copy, so changing b has no effect\n",
            "b=[ 1. 88.  3.  4.], b did get changed\n"
          ]
        }
      ]
    },
    {
      "cell_type": "markdown",
      "source": [
        "Composite types like arrays and lists reference data.    Assignments from one variable to another put a reference to the same object into the new variable.  Function call arguments work the same way."
      ],
      "metadata": {
        "id": "qmlluDY84hN3"
      }
    },
    {
      "cell_type": "markdown",
      "source": [
        "# Important Numpy Concepts\n",
        "Math operations on numpy arrays can act on all members of the array.\n",
        "We can avoid using python loops and have faster code.\n"
      ],
      "metadata": {
        "id": "89dF1j-r_oDB"
      }
    },
    {
      "cell_type": "code",
      "source": [
        "alist = [1.2, 1, -2.2]   # a list of two floats and an integer, each entry can be different\n",
        "b = np.array(alist, dtype=np.float64)  # all elements of an array are the same type, force type\n",
        "c = np.array( [1.0, 2.0, 3.0], dtype=np.float64) # Convert 3 element list to numpy array\n",
        "x = b * 2.0 # multiply all elements by 2.0\n",
        "z = x + c   # adds element by element - must have same length\n",
        "tot = np.sum(z)  # total elements of an array\n",
        "print(f\"z={z}, tot={tot}, len(z)={len(z)}\")\n",
        "ave = tot / len(z)\n",
        "print(f\"mean=np.tot(z)/len(z)={ave}\")\n",
        "# prebuilt version called mean\n",
        "print(f\"built in np.mean(z)={np.mean(z)}\")\n",
        "\n",
        "# We can even do things like take the sqrt of an array element by element\n",
        "sqrtc = np.sqrt(c)\n",
        "print(f\"sqrtc={sqrtc}\")"
      ],
      "metadata": {
        "colab": {
          "base_uri": "https://localhost:8080/"
        },
        "id": "GDZlPhBFA18Y",
        "outputId": "89633f2e-5b51-417e-9bbe-a81ce33063b5"
      },
      "execution_count": null,
      "outputs": [
        {
          "output_type": "stream",
          "name": "stdout",
          "text": [
            "z=[ 3.4  4.  -1.4], tot=6.0, len(z)=3\n",
            "mean=np.tot(z)/len(z)=2.0\n",
            "built in np.mean(z)=2.0\n",
            "sqrtc=[1.         1.41421356 1.73205081]\n"
          ]
        }
      ]
    },
    {
      "cell_type": "markdown",
      "source": [
        "# Random Numbers"
      ],
      "metadata": {
        "id": "IVkFoL06DK7V"
      }
    },
    {
      "cell_type": "code",
      "source": [
        "# np.random.random(len) will generate an array of uniform random numbers between 0 and 1\n",
        "randx = np.random.random(10)\n",
        "print(f\"randx={randx}\")\n",
        "# do it again and we independent random numbers from 0 to 1\n",
        "randy = np.random.random(10)\n",
        "print(f\"randy={randy}\")\n",
        "\n",
        "# Lets make a function that makes random numbers ranging from -1 to +1\n",
        "def randpm(count):\n",
        "  x = np.random.random(count)\n",
        "  x = x*2.0 - 1.0   # 0.0 -> -1.0, 0.5 -> ???,   1.0 -> +1.0\n",
        "  return x\n",
        "\n",
        "# Random numbers generators generate a sequence of numbers that are \"uncorrelated\"\n",
        "# This means you can't guess information about the next number.\n",
        "# We actually use pseudo-random number generator with a complicated\n",
        "# algorithm to generate a the next number.   Pseudo-random generators take\n",
        "# a seed value that determines the sequence of numbers so you can\n",
        "# exactly replay calculations.\n",
        "print()\n",
        "print(\"Testing if setting the seed gives us the same set of numbers\")\n",
        "np.random.seed(19467)\n",
        "randy = randpm(10)   # uniform random numbers in range [0,1]\n",
        "print(f\"rand with seed      ={randy}\")\n",
        "# If I want the same code to generate the same sequence I set the seed.\n",
        "# This can be very useful for testing.\n",
        "np.random.seed(19467)\n",
        "randy = randpm(10)\n",
        "print(f\"rand with seed again={randy}\")"
      ],
      "metadata": {
        "colab": {
          "base_uri": "https://localhost:8080/"
        },
        "id": "3R3NSYZVDOmu",
        "outputId": "5ea02bc2-67e1-4479-cce9-a8e1f0e53f4d"
      },
      "execution_count": null,
      "outputs": [
        {
          "output_type": "stream",
          "name": "stdout",
          "text": [
            "randx=[0.45119216 0.78556249 0.63372122 0.44781051 0.44663971 0.87283322\n",
            " 0.95262386 0.59253277 0.41299563 0.5283974 ]\n",
            "randy=[0.31573171 0.15348225 0.16866566 0.10608006 0.12991714 0.44960294\n",
            " 0.37440048 0.12877096 0.27774177 0.33921297]\n",
            "\n",
            "Testing if setting the seed gives us the same set of numbers\n",
            "rand with seed      =[-0.69818814 -0.65067905  0.12633974 -0.81224361 -0.57198455  0.99152846\n",
            " -0.63539685  0.72931404  0.87250041 -0.1046605 ]\n",
            "rand with seed again=[-0.69818814 -0.65067905  0.12633974 -0.81224361 -0.57198455  0.99152846\n",
            " -0.63539685  0.72931404  0.87250041 -0.1046605 ]\n"
          ]
        }
      ]
    },
    {
      "cell_type": "markdown",
      "source": [
        "Numpy has routines for computing mean and standard deviation.   Write your own, but you can use them to check your results."
      ],
      "metadata": {
        "id": "zhZyOjgrQnii"
      }
    },
    {
      "cell_type": "code",
      "source": [
        "cnt = 1000000  # try bigger numbers\n",
        "randx = randpm(cnt)\n",
        "meanx = np.mean(randx)\n",
        "stdx = np.std(randx, correction=1) # correction is subtracted from DOF for sample stddev\n",
        "print(f\"Mean,std of first 10 from randx: {meanx}, {stdx}\")\n",
        "randx = randpm(cnt) # get more numbers\n",
        "meanx = np.mean(randx)\n",
        "stdx = np.std(randx, correction=1)\n",
        "print(f\"Mean,std of second 10 from randy: {meanx}, {stdx}\")\n",
        "# Show that the std deviation is sqrt(1/3) as cnt -> inf"
      ],
      "metadata": {
        "colab": {
          "base_uri": "https://localhost:8080/"
        },
        "id": "sYVolBS9Qzpd",
        "outputId": "6445bd64-c749-48d8-881d-833f6b77e722"
      },
      "execution_count": null,
      "outputs": [
        {
          "output_type": "stream",
          "name": "stdout",
          "text": [
            "Mean,std of first 10 from randx: -0.00106236647244964, 0.5771844973044343\n",
            "Mean,std of second 10 from randy: -4.709537312394566e-06, 0.5772214051888922\n"
          ]
        }
      ]
    },
    {
      "cell_type": "markdown",
      "source": [
        "## Here we will determine pi using probability.\n",
        "\n",
        "Consider a square of length 2, centered in the origin.\n",
        "This square has an area of As = l^2 = 4\n",
        "\n",
        "Inside this square, we can put a circle of radius 1,\n",
        "which has an area of Ac = pi * r^2 = pi\n",
        "\n",
        "Then, we will generate two random numbers inside the square:\n",
        "    x in [-1,1]\n",
        "    y in [-1,1]\n",
        "\n",
        "The probability that this number is inside the circle is equal to\n",
        "    Ac/As = pi / 4\n",
        "\n",
        "By calculating a bunch of these random numbers, Nt,\n",
        "if we label the ones that are inside the circle as Nc,\n",
        "then then probability is also approximately equal to Nc/Nt\n",
        "\n",
        "So we can solve for pi = 4 * Nc/Nt"
      ],
      "metadata": {
        "id": "32WyKJ5YI6uQ"
      }
    },
    {
      "cell_type": "code",
      "source": [
        "pi= np.pi\n",
        "def sqrt(x): return np.sqrt(x)\n",
        "def exp(x): return np.exp(x)\n",
        "\n",
        "def calcpi(Nt):\n",
        "    \"\"\"\n",
        "    This function calculates pi using probability.\n",
        "    Nt is the number of trials\n",
        "    \"\"\"\n",
        "    x0,y0=np.random.random(Nt),np.random.random(Nt) # generate two vectors of uniform [0,1] random values\n",
        "    # Compute position in box for each sample\n",
        "    # Your code here\n",
        "\n",
        "    # Get samples inside circle  (look up numpy extract)\n",
        "    xin =\n",
        "    yin =\n",
        "\n",
        "    # Get samples outside circle  (what about boundary??)\n",
        "    xout =\n",
        "    yout =\n",
        "\n",
        "    # Compute pi from samples\n",
        "    pi_ran =\n",
        "\n",
        "    # Return everything for calling loop.    See below\n",
        "    return xin,yin, xout,yout, pi_ran"
      ],
      "metadata": {
        "id": "eFQ77TUuJKZu"
      },
      "execution_count": null,
      "outputs": []
    },
    {
      "cell_type": "code",
      "source": [
        "method1 = 'y'\n",
        "if method1 == 'y':\n",
        "    plt.figure(figsize=(9,10))\n",
        "    np.random.seed(19467)\n",
        "    Nt = 50000\n",
        "    miny,maxy = [3.04, 3.24]\n",
        "    aspect122 = 7/(maxy - miny)\n",
        "\n",
        "    plt.subplot(122, aspect=aspect122) # 2x2 array of plots, use upper right\n",
        "    for exp0 in np.arange(1,7,.2):\n",
        "        Nt = int(pow(10,exp0))\n",
        "        print(f\"Number of Samples={Nt}\")\n",
        "\n",
        "        # plt.subplot(122, aspect='equal') # 2x2 array of plots, use upper right\n",
        "        plt.axhline(y=pi,color='b',linewidth=1,linestyle='dashed')\n",
        "\n",
        "        xin,yin, xout,yout, pi_ran = calcpi(Nt)\n",
        "        print(f\"pi_ran={pi_ran}\")\n",
        "        #print(f\"Nt={Nt:8}, pi_ran={pi_ran}\")\n",
        "        #plt.subplot(122)\n",
        "        plt.errorbar(exp0, pi_ran,markersize=8,fmt='o',color='r',mfc='white',mec='r', elinewidth=2, capsize=4, mew=1.4)\n",
        "        # Add lables along bottom of plot to show number of samples\n",
        "        plt.xticks([0,2,4,6],['$1$','$10^2$','$10^4$','$10^6$'],size=15)\n",
        "        # create display limits for our estimates of pi\n",
        "        plt.ylim([3.04,3.24])\n",
        "\n",
        "    Nt = 10000\n",
        "    xin,yin, xout,yout, pi_ran = calcpi(Nt)\n",
        "    plt.subplot(121, aspect='equal') # 2x2 array of plots, select upper left\n",
        "    plt.errorbar(xin,yin,markersize=8,fmt='s',color='b',mfc='white',mec='b', elinewidth=2, capsize=4, mew=1.4)\n",
        "    plt.errorbar(xout,yout,markersize=8,fmt='o',color='r',mfc='white',mec='r', elinewidth=2, capsize=4, mew=1.4)\n",
        "plt.savefig('./pi_1pcnt_part1.pdf',\n",
        "                bbox_inches='tight',\n",
        "                transparent=True)"
      ],
      "metadata": {
        "id": "rTPgDLGKJ4pk"
      },
      "execution_count": null,
      "outputs": []
    },
    {
      "cell_type": "code",
      "source": [
        "method2 = 'y'\n",
        "if method2 == 'y':\n",
        "    #plt.figure(figsize=(10,5))\n",
        "    # 223 means 2x2 array of plots were the 3rd plot is selected.\n",
        "    # we count along rows, moving to the next row when we hit the end of the row\n",
        "    plt.subplot(223)\n",
        "    # plt.subplot(2, 2, 3) # This is a more general way to specify\n",
        "    plt.axhline(y=pi,color='b',linewidth=1,linestyle='dashed')\n",
        "\n",
        "    # Repeat monte-carlo experiment with increasing numbers of samples\n",
        "    # We use 500*10^exp0 numbers of samples with exp0 going through 1,2,3,4,5,6\n",
        "    for exp0 in np.arange(1,7,1):   # start at 1, stop *before* 7, step by 1.\n",
        "        Nt = int(pow(10,exp0))\n",
        "        pis = []   # collect our results here.\n",
        "        attempts =500\n",
        "\n",
        "        for attempt in np.arange(attempts):\n",
        "            xin,yin, xout,yout, pi0 = calcpi(Nt)\n",
        "            pis.append(pi0)\n",
        "\n",
        "        pi0 = np.mean(np.array(pis))\n",
        "        dpi0 = np.std(np.array(pis),ddof=1)\n",
        "        print(f\"NumSamples={Nt:8}, mean={pi0:12.10f}, std={dpi0:12.10f}\")\n",
        "        plt.subplot(223)\n",
        "        # add point to plot with an error bar.\n",
        "        plt.errorbar(exp0,pi0,yerr=dpi0,markersize=8,fmt='s',color='b',mfc='white',mec='b', elinewidth=2, capsize=4, mew=1.4)\n",
        "    plt.xticks([0,2,4,6],['$1$','$10^2$','$10^4$','$10^6$'],size=15)\n",
        "    print(f\"pi0={pi0}, dpi0={dpi0}\")\n",
        "    plt.ylim([2.94,3.34])\n",
        "    plt.subplot(222)\n",
        "\n",
        "    x=np.arange(7)\n",
        "    ym = np.ones(7)*(pi0-dpi0)\n",
        "    yp = np.ones(7)*(pi0+dpi0)\n",
        "    plt.fill_between(x,ym,yp,facecolor='b',alpha=.3)\n",
        "\n",
        "    pis = np.array(pis)\n",
        "    plt.subplot(224)\n",
        "    Nbins=30\n",
        "    plt.hist(pis, bins=Nbins)  # Histogram plot\n",
        "    # we can add graphics to a plot\n",
        "    # add mean line to lower right plot\n",
        "    plt.axvline(x=pi0,color='b',linewidth=1)\n",
        "    # add plus 1 stddev line to plot\n",
        "    plt.axvline(x=pi0+dpi0,color='b',linewidth=1,linestyle='dashed')\n",
        "    # add minus 1 stddev line to plot\n",
        "    plt.axvline(x=pi0-dpi0,color='b',linewidth=1,linestyle='dashed')\n",
        "\n",
        "\n",
        "plt.savefig('./pi_1pcnt_final.pdf',\n",
        "                bbox_inches='tight',\n",
        "                transparent=True)"
      ],
      "metadata": {
        "id": "DgPGJ8TsKJCS"
      },
      "execution_count": null,
      "outputs": []
    },
    {
      "cell_type": "markdown",
      "source": [],
      "metadata": {
        "id": "gpurg-4w4WpI"
      }
    },
    {
      "cell_type": "markdown",
      "source": [
        "Write your own mean and std functions that take numpy arrays, compare to np.mean and np.std"
      ],
      "metadata": {
        "id": "0ODm5Qoak8cZ"
      }
    }
  ]
}